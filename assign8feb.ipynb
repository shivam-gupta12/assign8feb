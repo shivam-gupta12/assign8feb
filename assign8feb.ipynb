{
 "cells": [
  {
   "cell_type": "markdown",
   "id": "3b30c29b-ffc5-4650-9639-4a684e33faa4",
   "metadata": {},
   "source": [
    "# question 1\n",
    "Abstraction is used to hide the internal functionality of the function from the users. The users only interact with the basic implementation of the function, but inner working is hidden. User is familiar with that \"what function does\" but they don't know \"how it does.\" EXAMPLE--\n",
    "\n"
   ]
  },
  {
   "cell_type": "code",
   "execution_count": 2,
   "id": "fe113f35-ea85-401e-86e5-7595581966f6",
   "metadata": {},
   "outputs": [
    {
     "name": "stdout",
     "output_type": "stream",
     "text": [
      "The mileage is 30kmph\n",
      "The mileage is 27kmph \n"
     ]
    }
   ],
   "source": [
    "from abc import ABC, abstractmethod   \n",
    "class Car(ABC):   \n",
    "    def mileage(self):   \n",
    "        pass  \n",
    "  \n",
    "class Tesla(Car):   \n",
    "    def mileage(self):   \n",
    "        print(\"The mileage is 30kmph\")   \n",
    "class Suzuki(Car):   \n",
    "    def mileage(self):   \n",
    "        print(\"The mileage is 25kmph \")   \n",
    "class Duster(Car):   \n",
    "     def mileage(self):   \n",
    "          print(\"The mileage is 24kmph \")   \n",
    "  \n",
    "class Renault(Car):   \n",
    "    def mileage(self):   \n",
    "            print(\"The mileage is 27kmph \")   \n",
    "          \n",
    "t= Tesla ()   \n",
    "t.mileage()   \n",
    "  \n",
    "r = Renault()   \n",
    "r.mileage()   "
   ]
  },
  {
   "cell_type": "markdown",
   "id": "8d1a01fd-1411-420f-8c2e-33b47a43e407",
   "metadata": {},
   "source": [
    "# QUESTION 2\n"
   ]
  },
  {
   "cell_type": "markdown",
   "id": "ab66c095-1e00-4a5c-986e-3f633cacc290",
   "metadata": {},
   "source": [
    "Definition--\n",
    "Abstraction is hiding the details and implementation of the code.\n",
    "Encapsulation is hiding the data and controlling the visibility of the code.\n",
    "\n",
    "Phase--\n",
    "Abstraction is a design level process.\n",
    "Encapsulation is an implementation level process.\n",
    "\n",
    "Pivotal Ability--\n",
    "Abstraction is concerned about what a class instance can do, instead of the implementation of the class.\n",
    "Encapsulation helps in data binding and control over maintaining the transparency of the data.\n",
    "\n",
    "Use Case--\n",
    "Abstraction is a design level process and it is used to reduce the complexity at the designing stage of a project.\n",
    "Encapsulation is an implementation level process, and it is used to provide privacy and maintain control over the transparency of data at the implementation stage of a project.\n",
    "\n",
    "How to Implement--\n",
    "Abstraction can be achieved using class and interfaces in java.\n",
    "Encapsulation is also implemented using classes and the control over data privacy is obtained by specifying access specifiers like protected, public, private.\n",
    "\n",
    "Example-- Suppose while developing a banking application, The process of fetching, removing, and selecting the relevant customer information from a pool of data is called Abstraction, which can furhter be used as interfaces in job portal applications, hospital applications, a Government database, etc. with slight or no amendment. Therefore, it works as your Master Data.\n",
    "While using camera in phone ,you don’t need to know how your camera recognizes a human face in an image or how it calculates gamma correction. You simply need to learn the software interface. So, it is a real-world example of encapsulation\n",
    "\n"
   ]
  },
  {
   "cell_type": "markdown",
   "id": "fc733069-51f3-48f2-b050-1f5333a949db",
   "metadata": {},
   "source": [
    "# QUESTION 3"
   ]
  },
  {
   "cell_type": "markdown",
   "id": "ec9599c3-1ea1-485c-bdbe-0eb48a97474b",
   "metadata": {},
   "source": [
    "The 'abc' module in the Python library provides the infrastructure for defining custom abstract base classes. Abstract class cannot be instantiated in python. An Abstract method can be call by its subclasses.\n",
    "\n",
    "The abc module defines ABCMeta class which is a metaclass for defining abstract base class. Following example defines Shape class as an abstract base class using ABCMeta. The shape class has area() method decorated by abstractmethod.\n",
    "\n",
    "A Rectangle class now uses above Shape class as its parent and implementing the abstract area() method. Since it is a concrete class, it can be instantiated and imlemented area() method can be called.\n",
    "\n"
   ]
  },
  {
   "cell_type": "markdown",
   "id": "0bf13f36-90e1-429b-b595-e0627bb25d97",
   "metadata": {},
   "source": [
    "# question 4 \n",
    "Unlike the other high-level language, Python doesn't provide the abstract class itself. We need to import the abc module, which provides the base for defining Abstract Base classes (ABC). The ABC works by decorating methods of the base class as abstract. It registers concrete classes as the implementation of the abstract base. We use the @abstractmethod decorator to define an abstract method or if we don't provide the definition to the method, it automatically becomes the abstract method. An Abstract class can contain the both method normal and abstract method.\n",
    "An Abstract cannot be instantiated; we cannot create objects for the abstract class. "
   ]
  },
  {
   "cell_type": "markdown",
   "id": "92a0192d-e773-4dde-892d-1ac58d0a7295",
   "metadata": {},
   "source": [
    "# question 5\n",
    "Abstract classes cannot be instantiated, but they can be subclassed. When an abstract class is subclassed, the subclass usually provides implementations for all of the abstract methods in its parent class. However, if it does not, then the subclass must also be declared abstract ."
   ]
  },
  {
   "cell_type": "code",
   "execution_count": null,
   "id": "99f70adc-4b17-442f-9391-f9adafe1f9e5",
   "metadata": {},
   "outputs": [],
   "source": []
  }
 ],
 "metadata": {
  "kernelspec": {
   "display_name": "Python 3 (ipykernel)",
   "language": "python",
   "name": "python3"
  },
  "language_info": {
   "codemirror_mode": {
    "name": "ipython",
    "version": 3
   },
   "file_extension": ".py",
   "mimetype": "text/x-python",
   "name": "python",
   "nbconvert_exporter": "python",
   "pygments_lexer": "ipython3",
   "version": "3.10.8"
  }
 },
 "nbformat": 4,
 "nbformat_minor": 5
}
